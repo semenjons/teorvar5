{
 "cells": [
  {
   "attachments": {},
   "cell_type": "markdown",
   "metadata": {},
   "source": [
    "1. Когда используется критерий Стьюдента, а когда Z –критерий?\n",
    "\n",
    "- когда соблюдены условия номальности()\n",
    "- сигма генеральной совокупности известна"
   ]
  },
  {
   "attachments": {},
   "cell_type": "markdown",
   "metadata": {},
   "source": [
    "2. Проведите тест гипотезы. Утверждается, что шарики для подшипников, изготовленные автоматическим станком, имеют средний диаметр 17 мм.\n",
    "Используя односторонний критерий с α=0,05, проверить эту гипотезу, если в выборке из n=100 шариков средний диаметр\n",
    "\n",
    "оказался равным 17.5 мм, а дисперсия известна и равна 4 кв. мм.\n",
    "\n",
    "Расчет наблюдаемого критерия расчитывается Z = (X - m)/(sigma/sqrt(n)\n",
    "X = 17.5\n",
    "m = 17\n",
    "d = 4\n",
    "sigma = sqrt(d)\n",
    "α (альфа) =0,05\n",
    "Z_0  = 1.644\n",
    "\n"
   ]
  },
  {
   "cell_type": "code",
   "execution_count": 3,
   "metadata": {},
   "outputs": [
    {
     "data": {
      "text/plain": [
       "2.5"
      ]
     },
     "execution_count": 3,
     "metadata": {},
     "output_type": "execute_result"
    }
   ],
   "source": [
    "from math import sqrt\n",
    "X = 17.5\n",
    "m = 17\n",
    "d = 4 \n",
    "n = 100\n",
    "sigma = sqrt(4)#sqrt(d)\n",
    "Z_1 = (X - m)/(sigma/sqrt(n))\n",
    "Z_1"
   ]
  },
  {
   "attachments": {},
   "cell_type": "markdown",
   "metadata": {},
   "source": [
    "Гипотеза не верна т.к  Z_0 < Z_1 , тоесть данные попадают в область альтернативной теории. Вывод: шарики изготовлены не на данном станке или были внесены некоторые изменения в самом станке.  \n"
   ]
  }
 ],
 "metadata": {
  "kernelspec": {
   "display_name": ".folder",
   "language": "python",
   "name": "python3"
  },
  "language_info": {
   "codemirror_mode": {
    "name": "ipython",
    "version": 3
   },
   "file_extension": ".py",
   "mimetype": "text/x-python",
   "name": "python",
   "nbconvert_exporter": "python",
   "pygments_lexer": "ipython3",
   "version": "3.11.2"
  },
  "orig_nbformat": 4,
  "vscode": {
   "interpreter": {
    "hash": "473553e28e5b363d575e92da535f1f161aa2132f3ee15a8dbf1484ed06349749"
   }
  }
 },
 "nbformat": 4,
 "nbformat_minor": 2
}
