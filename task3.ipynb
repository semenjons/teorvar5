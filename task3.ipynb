{
 "cells": [
  {
   "attachments": {},
   "cell_type": "markdown",
   "metadata": {},
   "source": [
    "3.Проведите тест гипотезы. Продавец утверждает, что средний вес пачки печенья составляет 200 г.\n",
    "Из партии извлечена выборка из 10 пачек. Вес каждой пачки составляет:\n",
    "202, 203, 199, 197, 195, 201, 200, 204, 194, 190.\n",
    "Известно, что их веса распределены нормально.\n",
    "Верно ли утверждение продавца, если учитывать, что доверительная вероятность равна 99%? (Провести двусторонний тест.)\n",
    "\n",
    " - H_0: M = M_0\n",
    " - H_1: M != M_0\n",
    "  n = 10\n",
    "  m = 200\n",
    "  доверительная вероятность равна 99%  a = 1% = 0,01\n",
    "  так ка нужно провести двусторонний тест, то а = 0,01/02"
   ]
  },
  {
   "cell_type": "code",
   "execution_count": 5,
   "metadata": {},
   "outputs": [
    {
     "data": {
      "text/plain": [
       "-1.0651074037450896"
      ]
     },
     "execution_count": 5,
     "metadata": {},
     "output_type": "execute_result"
    }
   ],
   "source": [
    "import numpy as np\n",
    "\n",
    "n = 10\n",
    "m = 200\n",
    "lol = np.array([202, 203, 199, 197, 195, 201, 200, 204, 194, 190])\n",
    "X = np.mean(lol)\n",
    "sigma = np.std(lol,ddof=1)\n",
    "\n",
    "def N(sigma, X, m, n):\n",
    "    n = 10\n",
    "    m = 200\n",
    "    return (X - m) / (sigma / np.sqrt(n))\n",
    "t_n = N(sigma, X, m, n)\n",
    "t_n"
   ]
  },
  {
   "attachments": {},
   "cell_type": "markdown",
   "metadata": {},
   "source": [
    " \n",
    "Т.к. распределение Стьюдента зависит от степеней свободы(n-1), мы строим 99% интервал, т.е.   а = 0,01/02 = 0,005\n",
    "находим табличное значение t\n",
    "t = 3.250 - табличное значение\n",
    "t_n = -1.0651074037450896 - наблюдаемое зхначение\n",
    "t > t_n   - табличное значение больше наблюдаемого значения, значит гипотеза верна \n",
    "принимаем нулевое значение\n",
    " -3.250<-1.0651074037450896<3.250\n",
    "\n"
   ]
  }
 ],
 "metadata": {
  "kernelspec": {
   "display_name": ".folder",
   "language": "python",
   "name": "python3"
  },
  "language_info": {
   "codemirror_mode": {
    "name": "ipython",
    "version": 3
   },
   "file_extension": ".py",
   "mimetype": "text/x-python",
   "name": "python",
   "nbconvert_exporter": "python",
   "pygments_lexer": "ipython3",
   "version": "3.11.2"
  },
  "orig_nbformat": 4,
  "vscode": {
   "interpreter": {
    "hash": "473553e28e5b363d575e92da535f1f161aa2132f3ee15a8dbf1484ed06349749"
   }
  }
 },
 "nbformat": 4,
 "nbformat_minor": 2
}
